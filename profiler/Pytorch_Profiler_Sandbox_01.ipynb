{
 "cells": [
  {
   "cell_type": "markdown",
   "id": "74ac493d",
   "metadata": {},
   "source": [
    "# Pytorch Profiler Sandbox 01"
   ]
  },
  {
   "cell_type": "code",
   "execution_count": 1,
   "id": "eadb7249",
   "metadata": {},
   "outputs": [],
   "source": [
    "import torch\n",
    "import torchvision.models as models\n",
    "from torch.profiler import profile, record_function, ProfilerActivity"
   ]
  },
  {
   "cell_type": "code",
   "execution_count": 2,
   "id": "4aa3e530",
   "metadata": {},
   "outputs": [],
   "source": [
    "model = models.resnet18()\n",
    "inputs = torch.randn(5, 3, 224, 224)"
   ]
  },
  {
   "cell_type": "code",
   "execution_count": 3,
   "id": "016891d5",
   "metadata": {},
   "outputs": [],
   "source": [
    "with profile(activities=[ProfilerActivity.CPU], record_shapes=True) as prof:\n",
    "    with record_function(\"model_inference\"):\n",
    "        model(inputs)"
   ]
  },
  {
   "cell_type": "code",
   "execution_count": 4,
   "id": "f2f1587f",
   "metadata": {},
   "outputs": [
    {
     "name": "stdout",
     "output_type": "stream",
     "text": [
      "---------------------------------  ------------  ------------  ------------  ------------  ------------  ------------  \n",
      "                             Name    Self CPU %      Self CPU   CPU total %     CPU total  CPU time avg    # of Calls  \n",
      "---------------------------------  ------------  ------------  ------------  ------------  ------------  ------------  \n",
      "                  model_inference        11.12%      12.277ms        99.35%     109.642ms     109.642ms             1  \n",
      "                     aten::conv2d         0.06%      66.000us        67.91%      74.940ms       3.747ms            20  \n",
      "                aten::convolution         0.54%     598.000us        67.85%      74.874ms       3.744ms            20  \n",
      "               aten::_convolution         0.14%     152.000us        67.30%      74.276ms       3.714ms            20  \n",
      "         aten::mkldnn_convolution        67.05%      73.991ms        67.17%      74.124ms       3.706ms            20  \n",
      "                 aten::batch_norm         0.05%      58.000us         8.22%       9.075ms     453.750us            20  \n",
      "     aten::_batch_norm_impl_index         0.80%     885.000us         8.17%       9.017ms     450.850us            20  \n",
      "          aten::native_batch_norm         7.15%       7.892ms         7.34%       8.104ms     405.200us            20  \n",
      "                 aten::max_pool2d         0.03%      35.000us         7.10%       7.833ms       7.833ms             1  \n",
      "    aten::max_pool2d_with_indices         7.07%       7.798ms         7.07%       7.798ms       7.798ms             1  \n",
      "---------------------------------  ------------  ------------  ------------  ------------  ------------  ------------  \n",
      "Self CPU time total: 110.360ms\n",
      "\n"
     ]
    }
   ],
   "source": [
    "print(prof.key_averages().table(sort_by=\"cpu_time_total\", row_limit=10))"
   ]
  },
  {
   "cell_type": "code",
   "execution_count": 5,
   "id": "4aad3a2c",
   "metadata": {},
   "outputs": [
    {
     "name": "stdout",
     "output_type": "stream",
     "text": [
      "---------------------------------  ------------  ------------  ------------  ------------  ------------  ------------  \n",
      "                             Name    Self CPU %      Self CPU   CPU total %     CPU total  CPU time avg    # of Calls  \n",
      "---------------------------------  ------------  ------------  ------------  ------------  ------------  ------------  \n",
      "         aten::mkldnn_convolution        67.05%      73.991ms        67.17%      74.124ms       3.706ms            20  \n",
      "                  model_inference        11.12%      12.277ms        99.35%     109.642ms     109.642ms             1  \n",
      "          aten::native_batch_norm         7.15%       7.892ms         7.34%       8.104ms     405.200us            20  \n",
      "    aten::max_pool2d_with_indices         7.07%       7.798ms         7.07%       7.798ms       7.798ms             1  \n",
      "                 aten::clamp_min_         1.07%       1.183ms         1.07%       1.183ms      69.588us            17  \n",
      "                      aten::addmm         1.01%       1.113ms         1.03%       1.140ms       1.140ms             1  \n",
      "     aten::_batch_norm_impl_index         0.80%     885.000us         8.17%       9.017ms     450.850us            20  \n",
      "                       aten::add_         0.72%     800.000us         0.72%     800.000us      28.571us            28  \n",
      "                      aten::zeros         0.64%     710.000us         0.65%     718.000us     718.000us             1  \n",
      "                       aten::div_         0.57%     625.000us         0.61%     674.000us     674.000us             1  \n",
      "---------------------------------  ------------  ------------  ------------  ------------  ------------  ------------  \n",
      "Self CPU time total: 110.360ms\n",
      "\n"
     ]
    }
   ],
   "source": [
    "print(prof.key_averages().table(sort_by=\"self_cpu_time_total\", row_limit=10))"
   ]
  },
  {
   "cell_type": "code",
   "execution_count": 6,
   "id": "553d172b",
   "metadata": {},
   "outputs": [
    {
     "name": "stdout",
     "output_type": "stream",
     "text": [
      "---------------------------------  ------------  ------------  ------------  ------------  ------------  ------------  --------------------------------------------------------------------------------  \n",
      "                             Name    Self CPU %      Self CPU   CPU total %     CPU total  CPU time avg    # of Calls                                                                      Input Shapes  \n",
      "---------------------------------  ------------  ------------  ------------  ------------  ------------  ------------  --------------------------------------------------------------------------------  \n",
      "                  model_inference        11.12%      12.277ms        99.35%     109.642ms     109.642ms             1                                                                                []  \n",
      "                     aten::conv2d         0.01%      15.000us        15.62%      17.239ms       4.310ms             4                             [[5, 64, 56, 56], [64, 64, 3, 3], [], [], [], [], []]  \n",
      "                aten::convolution         0.04%      46.000us        15.61%      17.224ms       4.306ms             4                     [[5, 64, 56, 56], [64, 64, 3, 3], [], [], [], [], [], [], []]  \n",
      "               aten::_convolution         0.03%      31.000us        15.57%      17.178ms       4.295ms             4     [[5, 64, 56, 56], [64, 64, 3, 3], [], [], [], [], [], [], [], [], [], [], []]  \n",
      "         aten::mkldnn_convolution        15.51%      17.122ms        15.54%      17.147ms       4.287ms             4                             [[5, 64, 56, 56], [64, 64, 3, 3], [], [], [], [], []]  \n",
      "                     aten::conv2d         0.01%      16.000us        12.77%      14.093ms      14.093ms             1                             [[5, 3, 224, 224], [64, 3, 7, 7], [], [], [], [], []]  \n",
      "                aten::convolution         0.40%     445.000us        12.76%      14.077ms      14.077ms             1                     [[5, 3, 224, 224], [64, 3, 7, 7], [], [], [], [], [], [], []]  \n",
      "               aten::_convolution         0.04%      40.000us        12.35%      13.632ms      13.632ms             1     [[5, 3, 224, 224], [64, 3, 7, 7], [], [], [], [], [], [], [], [], [], [], []]  \n",
      "         aten::mkldnn_convolution        12.29%      13.559ms        12.32%      13.592ms      13.592ms             1                             [[5, 3, 224, 224], [64, 3, 7, 7], [], [], [], [], []]  \n",
      "                     aten::conv2d         0.01%       7.000us        11.07%      12.213ms       4.071ms             3                            [[5, 512, 7, 7], [512, 512, 3, 3], [], [], [], [], []]  \n",
      "---------------------------------  ------------  ------------  ------------  ------------  ------------  ------------  --------------------------------------------------------------------------------  \n",
      "Self CPU time total: 110.360ms\n",
      "\n"
     ]
    }
   ],
   "source": [
    "print(prof.key_averages(group_by_input_shape=True).table(sort_by=\"cpu_time_total\", row_limit=10))"
   ]
  },
  {
   "cell_type": "code",
   "execution_count": 8,
   "id": "b8bae69a",
   "metadata": {},
   "outputs": [
    {
     "name": "stdout",
     "output_type": "stream",
     "text": [
      "---------------------------------  ------------  ------------  ------------  ------------  ------------  ------------  ------------  ------------  \n",
      "                             Name    Self CPU %      Self CPU   CPU total %     CPU total  CPU time avg       CPU Mem  Self CPU Mem    # of Calls  \n",
      "---------------------------------  ------------  ------------  ------------  ------------  ------------  ------------  ------------  ------------  \n",
      "                      aten::empty         0.47%     362.000us         0.47%     362.000us       1.810us      94.87 Mb      94.87 Mb           200  \n",
      "    aten::max_pool2d_with_indices         9.99%       7.772ms         9.99%       7.772ms       7.772ms      11.48 Mb      11.48 Mb             1  \n",
      "                      aten::addmm         0.18%     139.000us         0.20%     153.000us     153.000us      19.53 Kb      19.53 Kb             1  \n",
      "                       aten::mean         0.01%       8.000us         0.07%      56.000us      56.000us      10.00 Kb      10.00 Kb             1  \n",
      "              aten::empty_strided         0.00%       2.000us         0.00%       2.000us       2.000us           4 b           4 b             1  \n",
      "                     aten::conv2d         0.08%      60.000us        75.62%      58.861ms       2.943ms      47.37 Mb           0 b            20  \n",
      "                aten::convolution         0.24%     188.000us        75.55%      58.801ms       2.940ms      47.37 Mb           0 b            20  \n",
      "               aten::_convolution         0.16%     126.000us        75.31%      58.613ms       2.931ms      47.37 Mb           0 b            20  \n",
      "         aten::mkldnn_convolution        74.98%      58.362ms        75.14%      58.487ms       2.924ms      47.37 Mb           0 b            20  \n",
      "                aten::as_strided_         0.03%      21.000us         0.03%      21.000us       1.050us           0 b           0 b            20  \n",
      "---------------------------------  ------------  ------------  ------------  ------------  ------------  ------------  ------------  ------------  \n",
      "Self CPU time total: 77.834ms\n",
      "\n"
     ]
    }
   ],
   "source": [
    "with profile(activities=[ProfilerActivity.CPU], profile_memory=True, record_shapes=True) as prof:\n",
    "    model(inputs)\n",
    "    \n",
    "print(prof.key_averages().table(sort_by=\"self_cpu_memory_usage\", row_limit=10))"
   ]
  },
  {
   "cell_type": "code",
   "execution_count": 9,
   "id": "fd51c730",
   "metadata": {},
   "outputs": [],
   "source": [
    "prof.export_chrome_trace(\"trace.json\")"
   ]
  },
  {
   "cell_type": "code",
   "execution_count": 12,
   "id": "9ab1dec8",
   "metadata": {},
   "outputs": [
    {
     "name": "stdout",
     "output_type": "stream",
     "text": [
      "---------------------------------  ------------  ------------  ------------  ------------  ------------  ------------  ---------------------------------------------------------  \n",
      "                             Name    Self CPU %      Self CPU   CPU total %     CPU total  CPU time avg    # of Calls  Source Location                                            \n",
      "---------------------------------  ------------  ------------  ------------  ------------  ------------  ------------  ---------------------------------------------------------  \n",
      "         aten::mkldnn_convolution        78.08%      76.149ms        78.20%      76.264ms       3.813ms            20  runpy.py(87): _run_code                                    \n",
      "                                                                                                                       ipykernel_launcher.py(17): <module>                        \n",
      "                                                                                                                       traitlets/config/application.py(976): launch_instance      \n",
      "                                                                                                                       ipykernel/kernelapp.py(712): start                         \n",
      "                                                                                                                       tornado/platform/asyncio.py(215): start                    \n",
      "                                                                                                                                                                                  \n",
      "    aten::max_pool2d_with_indices         9.40%       9.163ms         9.40%       9.163ms       9.163ms             1  runpy.py(87): _run_code                                    \n",
      "                                                                                                                       ipykernel_launcher.py(17): <module>                        \n",
      "                                                                                                                       traitlets/config/application.py(976): launch_instance      \n",
      "                                                                                                                       ipykernel/kernelapp.py(712): start                         \n",
      "                                                                                                                       tornado/platform/asyncio.py(215): start                    \n",
      "                                                                                                                                                                                  \n",
      "---------------------------------  ------------  ------------  ------------  ------------  ------------  ------------  ---------------------------------------------------------  \n",
      "Self CPU time total: 97.529ms\n",
      "\n"
     ]
    }
   ],
   "source": [
    "with profile(activities=[ProfilerActivity.CPU], with_stack=True,) as prof:\n",
    "    model(inputs)\n",
    "\n",
    "print(prof.key_averages(group_by_stack_n=5).table(sort_by=\"self_cpu_time_total\", row_limit=2))"
   ]
  },
  {
   "cell_type": "code",
   "execution_count": 14,
   "id": "cf0f2a49",
   "metadata": {},
   "outputs": [],
   "source": [
    "prof.export_stacks(\"profiler_stacks.txt\", \"self_cpu_time_total\")"
   ]
  },
  {
   "cell_type": "code",
   "execution_count": 20,
   "id": "931b36a4",
   "metadata": {},
   "outputs": [
    {
     "ename": "UnidentifiedImageError",
     "evalue": "cannot identify image file 'perf_viz.svg'",
     "output_type": "error",
     "traceback": [
      "\u001b[0;31m---------------------------------------------------------------------------\u001b[0m",
      "\u001b[0;31mUnidentifiedImageError\u001b[0m                    Traceback (most recent call last)",
      "Input \u001b[0;32mIn [20]\u001b[0m, in \u001b[0;36m<cell line: 3>\u001b[0;34m()\u001b[0m\n\u001b[1;32m      1\u001b[0m \u001b[38;5;28;01mimport\u001b[39;00m \u001b[38;5;21;01mipyplot\u001b[39;00m\n\u001b[0;32m----> 3\u001b[0m \u001b[43mipyplot\u001b[49m\u001b[38;5;241;43m.\u001b[39;49m\u001b[43mplot_images\u001b[49m\u001b[43m(\u001b[49m\n\u001b[1;32m      4\u001b[0m \u001b[43m    \u001b[49m\u001b[43m[\u001b[49m\u001b[38;5;124;43m'\u001b[39;49m\u001b[38;5;124;43m/Users/L029235/local/repos/torch-playground/profiler/perf_viz.svg\u001b[39;49m\u001b[38;5;124;43m'\u001b[39;49m\u001b[43m]\u001b[49m\u001b[43m,\u001b[49m\u001b[43m \u001b[49m\u001b[38;5;66;43;03m# images should be passed in as an array\u001b[39;49;00m\n\u001b[1;32m      5\u001b[0m \u001b[43m    \u001b[49m\u001b[43mimg_width\u001b[49m\u001b[38;5;241;43m=\u001b[39;49m\u001b[38;5;241;43m250\u001b[39;49m\u001b[43m,\u001b[49m\n\u001b[1;32m      6\u001b[0m \u001b[43m    \u001b[49m\u001b[43mforce_b64\u001b[49m\u001b[38;5;241;43m=\u001b[39;49m\u001b[38;5;28;43;01mTrue\u001b[39;49;00m\u001b[43m \u001b[49m\u001b[38;5;66;43;03m# this is important to be able to render the image correctly on GitHub\u001b[39;49;00m\n\u001b[1;32m      7\u001b[0m \u001b[43m)\u001b[49m\n",
      "File \u001b[0;32m~/.pyenv/versions/3.8.13/envs/torch-1.12/lib/python3.8/site-packages/ipyplot/_plotting.py:144\u001b[0m, in \u001b[0;36mplot_images\u001b[0;34m(images, labels, custom_texts, max_images, img_width, zoom_scale, show_url, force_b64)\u001b[0m\n\u001b[1;32m    140\u001b[0m     labels \u001b[38;5;241m=\u001b[39m _np\u001b[38;5;241m.\u001b[39masarray(labels)\n\u001b[1;32m    142\u001b[0m custom_texts \u001b[38;5;241m=\u001b[39m _np\u001b[38;5;241m.\u001b[39masarray(custom_texts) \u001b[38;5;28;01mif\u001b[39;00m custom_texts \u001b[38;5;129;01mis\u001b[39;00m \u001b[38;5;129;01mnot\u001b[39;00m \u001b[38;5;28;01mNone\u001b[39;00m \u001b[38;5;28;01melse\u001b[39;00m custom_texts  \u001b[38;5;66;03m# NOQA E501\u001b[39;00m\n\u001b[0;32m--> 144\u001b[0m html \u001b[38;5;241m=\u001b[39m \u001b[43m_create_imgs_grid\u001b[49m\u001b[43m(\u001b[49m\n\u001b[1;32m    145\u001b[0m \u001b[43m    \u001b[49m\u001b[43mimages\u001b[49m\u001b[38;5;241;43m=\u001b[39;49m\u001b[43mimages\u001b[49m\u001b[43m,\u001b[49m\n\u001b[1;32m    146\u001b[0m \u001b[43m    \u001b[49m\u001b[43mlabels\u001b[49m\u001b[38;5;241;43m=\u001b[39;49m\u001b[43mlabels\u001b[49m\u001b[43m,\u001b[49m\n\u001b[1;32m    147\u001b[0m \u001b[43m    \u001b[49m\u001b[43mcustom_texts\u001b[49m\u001b[38;5;241;43m=\u001b[39;49m\u001b[43mcustom_texts\u001b[49m\u001b[43m,\u001b[49m\n\u001b[1;32m    148\u001b[0m \u001b[43m    \u001b[49m\u001b[43mmax_images\u001b[49m\u001b[38;5;241;43m=\u001b[39;49m\u001b[43mmax_images\u001b[49m\u001b[43m,\u001b[49m\n\u001b[1;32m    149\u001b[0m \u001b[43m    \u001b[49m\u001b[43mimg_width\u001b[49m\u001b[38;5;241;43m=\u001b[39;49m\u001b[43mimg_width\u001b[49m\u001b[43m,\u001b[49m\n\u001b[1;32m    150\u001b[0m \u001b[43m    \u001b[49m\u001b[43mzoom_scale\u001b[49m\u001b[38;5;241;43m=\u001b[39;49m\u001b[43mzoom_scale\u001b[49m\u001b[43m,\u001b[49m\n\u001b[1;32m    151\u001b[0m \u001b[43m    \u001b[49m\u001b[43mshow_url\u001b[49m\u001b[38;5;241;43m=\u001b[39;49m\u001b[43mshow_url\u001b[49m\u001b[43m,\u001b[49m\n\u001b[1;32m    152\u001b[0m \u001b[43m    \u001b[49m\u001b[43mforce_b64\u001b[49m\u001b[38;5;241;43m=\u001b[39;49m\u001b[43mforce_b64\u001b[49m\u001b[43m)\u001b[49m\n\u001b[1;32m    154\u001b[0m _display_html(html)\n",
      "File \u001b[0;32m~/.pyenv/versions/3.8.13/envs/torch-1.12/lib/python3.8/site-packages/ipyplot/_html_helpers.py:394\u001b[0m, in \u001b[0;36m_create_imgs_grid\u001b[0;34m(images, labels, custom_texts, max_images, img_width, zoom_scale, show_url, force_b64, resize_image)\u001b[0m\n\u001b[1;32m    391\u001b[0m html, grid_style_uuid \u001b[38;5;241m=\u001b[39m _get_default_style(img_width, zoom_scale)\n\u001b[1;32m    393\u001b[0m html \u001b[38;5;241m+\u001b[39m\u001b[38;5;241m=\u001b[39m \u001b[38;5;124m'\u001b[39m\u001b[38;5;124m<div id=\u001b[39m\u001b[38;5;124m\"\u001b[39m\u001b[38;5;124mipyplot-imgs-container-div-\u001b[39m\u001b[38;5;132;01m%s\u001b[39;00m\u001b[38;5;124m\"\u001b[39m\u001b[38;5;124m>\u001b[39m\u001b[38;5;124m'\u001b[39m \u001b[38;5;241m%\u001b[39m grid_style_uuid\n\u001b[0;32m--> 394\u001b[0m html \u001b[38;5;241m+\u001b[39m\u001b[38;5;241m=\u001b[39m \u001b[38;5;124m'\u001b[39m\u001b[38;5;124m'\u001b[39m\u001b[38;5;241m.\u001b[39mjoin([\n\u001b[1;32m    395\u001b[0m     _create_img(\n\u001b[1;32m    396\u001b[0m         x, width\u001b[38;5;241m=\u001b[39mimg_width, label\u001b[38;5;241m=\u001b[39my,\n\u001b[1;32m    397\u001b[0m         grid_style_uuid\u001b[38;5;241m=\u001b[39mgrid_style_uuid,\n\u001b[1;32m    398\u001b[0m         custom_text\u001b[38;5;241m=\u001b[39mtext, show_url\u001b[38;5;241m=\u001b[39mshow_url,\n\u001b[1;32m    399\u001b[0m         force_b64\u001b[38;5;241m=\u001b[39mforce_b64,\n\u001b[1;32m    400\u001b[0m         resize_image\u001b[38;5;241m=\u001b[39mresize_image\n\u001b[1;32m    401\u001b[0m     )\n\u001b[1;32m    402\u001b[0m     \u001b[38;5;28;01mfor\u001b[39;00m x, y, text \u001b[38;5;129;01min\u001b[39;00m \u001b[38;5;28mzip\u001b[39m(\n\u001b[1;32m    403\u001b[0m         images[:max_images], labels[:max_images],\n\u001b[1;32m    404\u001b[0m         custom_texts[:max_images])\n\u001b[1;32m    405\u001b[0m ])\n\u001b[1;32m    406\u001b[0m html \u001b[38;5;241m+\u001b[39m\u001b[38;5;241m=\u001b[39m \u001b[38;5;124m'\u001b[39m\u001b[38;5;124m</div>\u001b[39m\u001b[38;5;124m'\u001b[39m\n\u001b[1;32m    407\u001b[0m \u001b[38;5;28;01mreturn\u001b[39;00m html\n",
      "File \u001b[0;32m~/.pyenv/versions/3.8.13/envs/torch-1.12/lib/python3.8/site-packages/ipyplot/_html_helpers.py:395\u001b[0m, in \u001b[0;36m<listcomp>\u001b[0;34m(.0)\u001b[0m\n\u001b[1;32m    391\u001b[0m html, grid_style_uuid \u001b[38;5;241m=\u001b[39m _get_default_style(img_width, zoom_scale)\n\u001b[1;32m    393\u001b[0m html \u001b[38;5;241m+\u001b[39m\u001b[38;5;241m=\u001b[39m \u001b[38;5;124m'\u001b[39m\u001b[38;5;124m<div id=\u001b[39m\u001b[38;5;124m\"\u001b[39m\u001b[38;5;124mipyplot-imgs-container-div-\u001b[39m\u001b[38;5;132;01m%s\u001b[39;00m\u001b[38;5;124m\"\u001b[39m\u001b[38;5;124m>\u001b[39m\u001b[38;5;124m'\u001b[39m \u001b[38;5;241m%\u001b[39m grid_style_uuid\n\u001b[1;32m    394\u001b[0m html \u001b[38;5;241m+\u001b[39m\u001b[38;5;241m=\u001b[39m \u001b[38;5;124m'\u001b[39m\u001b[38;5;124m'\u001b[39m\u001b[38;5;241m.\u001b[39mjoin([\n\u001b[0;32m--> 395\u001b[0m     \u001b[43m_create_img\u001b[49m\u001b[43m(\u001b[49m\n\u001b[1;32m    396\u001b[0m \u001b[43m        \u001b[49m\u001b[43mx\u001b[49m\u001b[43m,\u001b[49m\u001b[43m \u001b[49m\u001b[43mwidth\u001b[49m\u001b[38;5;241;43m=\u001b[39;49m\u001b[43mimg_width\u001b[49m\u001b[43m,\u001b[49m\u001b[43m \u001b[49m\u001b[43mlabel\u001b[49m\u001b[38;5;241;43m=\u001b[39;49m\u001b[43my\u001b[49m\u001b[43m,\u001b[49m\n\u001b[1;32m    397\u001b[0m \u001b[43m        \u001b[49m\u001b[43mgrid_style_uuid\u001b[49m\u001b[38;5;241;43m=\u001b[39;49m\u001b[43mgrid_style_uuid\u001b[49m\u001b[43m,\u001b[49m\n\u001b[1;32m    398\u001b[0m \u001b[43m        \u001b[49m\u001b[43mcustom_text\u001b[49m\u001b[38;5;241;43m=\u001b[39;49m\u001b[43mtext\u001b[49m\u001b[43m,\u001b[49m\u001b[43m \u001b[49m\u001b[43mshow_url\u001b[49m\u001b[38;5;241;43m=\u001b[39;49m\u001b[43mshow_url\u001b[49m\u001b[43m,\u001b[49m\n\u001b[1;32m    399\u001b[0m \u001b[43m        \u001b[49m\u001b[43mforce_b64\u001b[49m\u001b[38;5;241;43m=\u001b[39;49m\u001b[43mforce_b64\u001b[49m\u001b[43m,\u001b[49m\n\u001b[1;32m    400\u001b[0m \u001b[43m        \u001b[49m\u001b[43mresize_image\u001b[49m\u001b[38;5;241;43m=\u001b[39;49m\u001b[43mresize_image\u001b[49m\n\u001b[1;32m    401\u001b[0m \u001b[43m    \u001b[49m\u001b[43m)\u001b[49m\n\u001b[1;32m    402\u001b[0m     \u001b[38;5;28;01mfor\u001b[39;00m x, y, text \u001b[38;5;129;01min\u001b[39;00m \u001b[38;5;28mzip\u001b[39m(\n\u001b[1;32m    403\u001b[0m         images[:max_images], labels[:max_images],\n\u001b[1;32m    404\u001b[0m         custom_texts[:max_images])\n\u001b[1;32m    405\u001b[0m ])\n\u001b[1;32m    406\u001b[0m html \u001b[38;5;241m+\u001b[39m\u001b[38;5;241m=\u001b[39m \u001b[38;5;124m'\u001b[39m\u001b[38;5;124m</div>\u001b[39m\u001b[38;5;124m'\u001b[39m\n\u001b[1;32m    407\u001b[0m \u001b[38;5;28;01mreturn\u001b[39;00m html\n",
      "File \u001b[0;32m~/.pyenv/versions/3.8.13/envs/torch-1.12/lib/python3.8/site-packages/ipyplot/_html_helpers.py:311\u001b[0m, in \u001b[0;36m_create_img\u001b[0;34m(image, label, width, grid_style_uuid, custom_text, show_url, force_b64, resize_image)\u001b[0m\n\u001b[1;32m    308\u001b[0m \u001b[38;5;66;03m# if image is not a string it means its either PIL.Image or np.ndarray\u001b[39;00m\n\u001b[1;32m    309\u001b[0m \u001b[38;5;66;03m# that's why it's necessary to use conversion to b64\u001b[39;00m\n\u001b[1;32m    310\u001b[0m \u001b[38;5;28;01mif\u001b[39;00m use_b64:\n\u001b[0;32m--> 311\u001b[0m     img_html \u001b[38;5;241m+\u001b[39m\u001b[38;5;241m=\u001b[39m \u001b[38;5;124m'\u001b[39m\u001b[38;5;124m<img src=\u001b[39m\u001b[38;5;124m\"\u001b[39m\u001b[38;5;124mdata:image/png;base64,\u001b[39m\u001b[38;5;132;01m%s\u001b[39;00m\u001b[38;5;124m\"\u001b[39m\u001b[38;5;124m/>\u001b[39m\u001b[38;5;124m'\u001b[39m \u001b[38;5;241m%\u001b[39m \u001b[43m_img_to_base64\u001b[49m\u001b[43m(\u001b[49m\n\u001b[1;32m    312\u001b[0m \u001b[43m        \u001b[49m\u001b[43mimage\u001b[49m\u001b[43m,\u001b[49m\n\u001b[1;32m    313\u001b[0m \u001b[43m        \u001b[49m\u001b[43mwidth\u001b[49m\u001b[43m \u001b[49m\u001b[38;5;28;43;01mif\u001b[39;49;00m\u001b[43m \u001b[49m\u001b[43mresize_image\u001b[49m\u001b[43m \u001b[49m\u001b[38;5;28;43;01melse\u001b[39;49;00m\u001b[43m \u001b[49m\u001b[38;5;28;43;01mNone\u001b[39;49;00m\u001b[43m)\u001b[49m\n\u001b[1;32m    315\u001b[0m html \u001b[38;5;241m=\u001b[39m \u001b[38;5;124m\"\"\"\u001b[39m\n\u001b[1;32m    316\u001b[0m \u001b[38;5;124m<div class=\u001b[39m\u001b[38;5;124m\"\u001b[39m\u001b[38;5;124mipyplot-placeholder-div-\u001b[39m\u001b[38;5;132;01m%(0)s\u001b[39;00m\u001b[38;5;124m\"\u001b[39m\u001b[38;5;124m>\u001b[39m\n\u001b[1;32m    317\u001b[0m \u001b[38;5;124m    <div id=\u001b[39m\u001b[38;5;124m\"\u001b[39m\u001b[38;5;124mipyplot-content-div-\u001b[39m\u001b[38;5;132;01m%(0)s\u001b[39;00m\u001b[38;5;124m-\u001b[39m\u001b[38;5;132;01m%(1)s\u001b[39;00m\u001b[38;5;124m\"\u001b[39m\u001b[38;5;124m class=\u001b[39m\u001b[38;5;124m\"\u001b[39m\u001b[38;5;124mipyplot-content-div-\u001b[39m\u001b[38;5;132;01m%(0)s\u001b[39;00m\u001b[38;5;124m\"\u001b[39m\u001b[38;5;124m>\u001b[39m\n\u001b[0;32m   (...)\u001b[0m\n\u001b[1;32m    327\u001b[0m \u001b[38;5;124m</div>\u001b[39m\n\u001b[1;32m    328\u001b[0m \u001b[38;5;124m\u001b[39m\u001b[38;5;124m\"\"\"\u001b[39m \u001b[38;5;241m%\u001b[39m {\u001b[38;5;124m'\u001b[39m\u001b[38;5;124m0\u001b[39m\u001b[38;5;124m'\u001b[39m: grid_style_uuid, \u001b[38;5;124m'\u001b[39m\u001b[38;5;124m1\u001b[39m\u001b[38;5;124m'\u001b[39m: img_uuid, \u001b[38;5;124m'\u001b[39m\u001b[38;5;124m2\u001b[39m\u001b[38;5;124m'\u001b[39m: label, \u001b[38;5;124m'\u001b[39m\u001b[38;5;124m3\u001b[39m\u001b[38;5;124m'\u001b[39m: img_html}  \u001b[38;5;66;03m# NOQA E501\u001b[39;00m\n\u001b[1;32m    329\u001b[0m \u001b[38;5;28;01mreturn\u001b[39;00m html\n",
      "File \u001b[0;32m~/.pyenv/versions/3.8.13/envs/torch-1.12/lib/python3.8/site-packages/ipyplot/_img_helpers.py:86\u001b[0m, in \u001b[0;36m_img_to_base64\u001b[0;34m(image, target_width)\u001b[0m\n\u001b[1;32m     84\u001b[0m         image \u001b[38;5;241m=\u001b[39m PIL\u001b[38;5;241m.\u001b[39mImage\u001b[38;5;241m.\u001b[39mfromarray(image)\n\u001b[1;32m     85\u001b[0m \u001b[38;5;28;01melif\u001b[39;00m \u001b[38;5;28mtype\u001b[39m(image) \u001b[38;5;129;01mis\u001b[39;00m \u001b[38;5;28mstr\u001b[39m \u001b[38;5;129;01mor\u001b[39;00m \u001b[38;5;28mtype\u001b[39m(image) \u001b[38;5;129;01mis\u001b[39;00m str_:\n\u001b[0;32m---> 86\u001b[0m     image \u001b[38;5;241m=\u001b[39m \u001b[43mPIL\u001b[49m\u001b[38;5;241;43m.\u001b[39;49m\u001b[43mImage\u001b[49m\u001b[38;5;241;43m.\u001b[39;49m\u001b[43mopen\u001b[49m\u001b[43m(\u001b[49m\u001b[43mimage\u001b[49m\u001b[43m)\u001b[49m\n\u001b[1;32m     88\u001b[0m \u001b[38;5;66;03m# rescale image based on target_width\u001b[39;00m\n\u001b[1;32m     89\u001b[0m \u001b[38;5;28;01mif\u001b[39;00m target_width:\n",
      "File \u001b[0;32m~/.pyenv/versions/3.8.13/envs/torch-1.12/lib/python3.8/site-packages/PIL/Image.py:3147\u001b[0m, in \u001b[0;36mopen\u001b[0;34m(fp, mode, formats)\u001b[0m\n\u001b[1;32m   3145\u001b[0m \u001b[38;5;28;01mfor\u001b[39;00m message \u001b[38;5;129;01min\u001b[39;00m accept_warnings:\n\u001b[1;32m   3146\u001b[0m     warnings\u001b[38;5;241m.\u001b[39mwarn(message)\n\u001b[0;32m-> 3147\u001b[0m \u001b[38;5;28;01mraise\u001b[39;00m UnidentifiedImageError(\n\u001b[1;32m   3148\u001b[0m     \u001b[38;5;124m\"\u001b[39m\u001b[38;5;124mcannot identify image file \u001b[39m\u001b[38;5;132;01m%r\u001b[39;00m\u001b[38;5;124m\"\u001b[39m \u001b[38;5;241m%\u001b[39m (filename \u001b[38;5;28;01mif\u001b[39;00m filename \u001b[38;5;28;01melse\u001b[39;00m fp)\n\u001b[1;32m   3149\u001b[0m )\n",
      "\u001b[0;31mUnidentifiedImageError\u001b[0m: cannot identify image file 'perf_viz.svg'"
     ]
    }
   ],
   "source": [
    "import ipyplot\n",
    "\n",
    "ipyplot.plot_images(\n",
    "    ['/Users/L029235/local/repos/torch-playground/profiler/perf_viz.svg'], # images should be passed in as an array\n",
    "    img_width=250,\n",
    "    force_b64=True # this is important to be able to render the image correctly on GitHub\n",
    ")"
   ]
  }
 ],
 "metadata": {
  "kernelspec": {
   "display_name": "Python 3 (ipykernel)",
   "language": "python",
   "name": "python3"
  },
  "language_info": {
   "codemirror_mode": {
    "name": "ipython",
    "version": 3
   },
   "file_extension": ".py",
   "mimetype": "text/x-python",
   "name": "python",
   "nbconvert_exporter": "python",
   "pygments_lexer": "ipython3",
   "version": "3.8.13"
  }
 },
 "nbformat": 4,
 "nbformat_minor": 5
}
